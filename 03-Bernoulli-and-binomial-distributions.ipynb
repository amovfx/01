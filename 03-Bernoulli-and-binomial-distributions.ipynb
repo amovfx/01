{
 "cells": [
  {
   "attachments": {},
   "cell_type": "markdown",
   "metadata": {},
   "source": [
    "# Bernoulli dist\n",
    "# True or False\n",
    "### X ~ Bernoulli(p)\n",
    "X is distributed as Bernoulli with parameter p\n",
    "\n",
    "### P\n",
    "f(X = x | p) = \n",
    "X is a random variable\n",
    "x is a value it might take\n",
    "p is a probability\n",
    "\n",
    "f(x|p) drops the big X\n",
    "p^x(1-p)^(1-x) <- probability mass function\n",
    "\n",
    "### Indicator function takes precidence as a function of x\n",
    "\n",
    "### Expected value\n",
    "E(X) = sum(x * f(x)) = sum(x * p^x(1-p)^(1-x))\n",
    "expected value is just p\n",
    "\n",
    "### Variance\n",
    "Var(X) = E(X^2) - E(X)^2\n",
    "p(1-p)"
   ]
  },
  {
   "attachments": {},
   "cell_type": "markdown",
   "metadata": {},
   "source": [
    "# Probability Distributions\n",
    "\n",
    "### Discrete\n",
    "\n",
    "Discrete Probability Distribution: A discrete probability distribution is associated with discrete random variables, which can only take on distinct and separate values. The probability distribution is described by a probability mass function (PMF), which assigns probabilities to each possible value of the random variable. Examples of discrete probability distributions include the Bernoulli distribution, binomial distribution, and Poisson distribution.\n",
    "\n",
    "### Continuous\n",
    "\n",
    "Continuous Probability Distribution: A continuous probability distribution is associated with continuous random variables, which can take on any value within a certain range or interval. The probability distribution is described by a probability density function (PDF), which specifies the relative likelihood of the random variable falling within different intervals. Examples of continuous probability distributions include the normal (Gaussian) distribution, exponential distribution, and uniform distribution."
   ]
  },
  {
   "attachments": {},
   "cell_type": "markdown",
   "metadata": {},
   "source": [
    "# Bernoulli Distribution\n",
    "\n",
    "The Bernoulli distribution is a discrete probability distribution that models a random variable that can take one of two possible outcomes, typically labeled as success (usually denoted as 1) and failure (usually denoted as 0). It is named after the Swiss mathematician Jacob Bernoulli.\n",
    "\n",
    "The Bernoulli distribution is characterized by a single parameter, p, which represents the probability of success. The probability mass function (PMF) of the Bernoulli distribution is given by:\n",
    "\n",
    "P(X = x) = p^x * (1 - p)^(1-x)\n",
    "\n",
    "where X is the random variable, x can take the values 0 or 1, and p is the probability of success.\n",
    "\n",
    "Properties of the Bernoulli distribution:\n",
    "\n",
    "Support: The random variable X can take only two possible values, typically 0 and 1.\n",
    "Mean: The mean or expected value of the Bernoulli distribution is given by E[X] = p.\n",
    "Variance: The variance of the Bernoulli distribution is given by Var[X] = p * (1 - p).\n",
    "Mode: The mode of the Bernoulli distribution is the value that occurs with the highest probability, which is the value with the highest probability of success (usually 1).\n",
    "The Bernoulli distribution is often used to model situations where there are only two possible outcomes, such as flipping a coin (heads or tails), the success or failure of a single experiment, or any dichotomous event. It serves as the building block for other important distributions, such as the binomial distribution, which models the number of successes in a fixed number of Bernoulli trials."
   ]
  },
  {
   "cell_type": "code",
   "execution_count": 12,
   "metadata": {},
   "outputs": [
    {
     "ename": "AttributeError",
     "evalue": "'rv_discrete_frozen' object has no attribute 'mode'",
     "output_type": "error",
     "traceback": [
      "\u001b[0;31m---------------------------------------------------------------------------\u001b[0m",
      "\u001b[0;31mAttributeError\u001b[0m                            Traceback (most recent call last)",
      "Cell \u001b[0;32mIn[12], line 18\u001b[0m\n\u001b[1;32m     16\u001b[0m mean \u001b[39m=\u001b[39m rv\u001b[39m.\u001b[39mmean()\n\u001b[1;32m     17\u001b[0m variance \u001b[39m=\u001b[39m rv\u001b[39m.\u001b[39mvar()\n\u001b[0;32m---> 18\u001b[0m mode \u001b[39m=\u001b[39m rv\u001b[39m.\u001b[39;49mmode()\n\u001b[1;32m     20\u001b[0m \u001b[39mprint\u001b[39m(\u001b[39m\"\u001b[39m\u001b[39mRandom Sample:\u001b[39m\u001b[39m\"\u001b[39m, sample)\n\u001b[1;32m     21\u001b[0m \u001b[39mprint\u001b[39m(\u001b[39m\"\u001b[39m\u001b[39mMean:\u001b[39m\u001b[39m\"\u001b[39m, mean)\n",
      "\u001b[0;31mAttributeError\u001b[0m: 'rv_discrete_frozen' object has no attribute 'mode'"
     ]
    }
   ],
   "source": [
    "import numpy as np\n",
    "from scipy.stats import bernoulli\n",
    "import matplotlib.pyplot as plt\n",
    "\n",
    "# Define the probability of success\n",
    "p = 0.2\n",
    "\n",
    "# Create a Bernoulli random variable\n",
    "rv = bernoulli(p)\n",
    "\n",
    "# Generate a random sample\n",
    "sample = rv.rvs(size=100)\n",
    "pmf = rv.pmf(sample)\n",
    "\n",
    "# Calculate the mean and variance\n",
    "mean = rv.mean()\n",
    "variance = rv.var()\n",
    "\n",
    "\n",
    "print(\"Random Sample:\", sample)\n",
    "print(\"Mean:\", mean)\n",
    "print(\"Variance:\", variance)\n",
    "\n",
    "\n",
    "plt.hist(sample, bins=[0, 1, 2], align='mid', rwidth=0.8, alpha=0.5)\n",
    "plt.xticks([0,1])\n",
    "plt.xlabel('Value')\n",
    "plt.ylabel('Probability')\n",
    "plt.title('Bernoulli Distribution (p=0.3)')\n",
    "plt.show()"
   ]
  },
  {
   "cell_type": "code",
   "execution_count": null,
   "metadata": {},
   "outputs": [],
   "source": []
  },
  {
   "attachments": {},
   "cell_type": "markdown",
   "metadata": {},
   "source": [
    "# Binomial dist\n",
    "\n",
    "X ~ Bin(n,p)\n",
    "X is distributed as Binomial with parameters n and p\n",
    "\n",
    "n choose x = n! / (x! * (n-x)!)\n",
    "\n",
    "### Expected value\n",
    "E(X) = n * p\n",
    "\n",
    "### Variance\n",
    "Var(X) = n * p * (1-p)\n"
   ]
  },
  {
   "cell_type": "code",
   "execution_count": 4,
   "metadata": {},
   "outputs": [
    {
     "data": {
      "image/png": "[encoded data removed]",
      "text/plain": [
       "<Figure size 640x480 with 1 Axes>"
      ]
     },
     "metadata": {},
     "output_type": "display_data"
    }
   ],
   "source": [
    "import numpy as np\n",
    "import scipy.stats as stats \n",
    "import matplotlib.pyplot as plt\n",
    "\n",
    "#define x-axis values\n",
    "x = np.linspace (0, 40, 100) \n",
    "\n",
    "#calculate pdf of Gamma distribution for each x-value\n",
    "y = stats.gamma.pdf(x, a=5, scale=3)\n",
    "\n",
    "#create plot of Gamma distribution\n",
    "plt.plot(x, y)\n",
    "\n",
    "#display plot\n",
    "plt.show()"
   ]
  },
  {
   "attachments": {},
   "cell_type": "markdown",
   "metadata": {},
   "source": [
    "# Quiz\n",
    "### 1. In random variable notation big X denotes a random variable\n",
    "### 2. In that same notation, little x denotes the realization of a random variable.\n",
    "### 3. X~ denotes a variable distributed as\n"
   ]
  },
  {
   "attachments": {},
   "cell_type": "markdown",
   "metadata": {},
   "source": [
    "### 4. -5 I{x > 2}(x) + x^2 I{x <= 2}(x) where x =3 "
   ]
  },
  {
   "cell_type": "code",
   "execution_count": 27,
   "metadata": {},
   "outputs": [
    {
     "name": "stdout",
     "output_type": "stream",
     "text": [
      "-5\n"
     ]
    }
   ],
   "source": [
    "indicator_eq = lambda x: -5 * int(x > 2) + x * int(x < -1)\n",
    "print(indicator_eq(3))"
   ]
  },
  {
   "attachments": {},
   "cell_type": "markdown",
   "metadata": {},
   "source": [
    "\n",
    "### 5. -5 I{x > 2}(x) + x^2 I{x <= 2}(x) where x = 0"
   ]
  },
  {
   "cell_type": "code",
   "execution_count": 28,
   "metadata": {},
   "outputs": [
    {
     "name": "stdout",
     "output_type": "stream",
     "text": [
      "0\n"
     ]
    }
   ],
   "source": [
    "print(indicator_eq(0))"
   ]
  },
  {
   "attachments": {},
   "cell_type": "markdown",
   "metadata": {},
   "source": [
    "### 6. Prediciting the next win is a good model for using a Bernouli random variable."
   ]
  },
  {
   "attachments": {},
   "cell_type": "markdown",
   "metadata": {},
   "source": [
    "# Quiz\n",
    "### Question 7\n"
   ]
  },
  {
   "cell_type": "code",
   "execution_count": 31,
   "metadata": {},
   "outputs": [
    {
     "name": "stdout",
     "output_type": "stream",
     "text": [
      "0.9000000000000001\n"
     ]
    }
   ],
   "source": [
    "a = np.arange(4)\n",
    "b = np.array([.5,.2,.2,.1])\n",
    "c = a * b\n",
    "print(c.sum())"
   ]
  },
  {
   "attachments": {},
   "cell_type": "markdown",
   "metadata": {},
   "source": [
    "### 8. Predicting the number of wins in a series of three games would use a binomial random variable with n > 1."
   ]
  },
  {
   "attachments": {},
   "cell_type": "markdown",
   "metadata": {},
   "source": [
    "### 9. Binomial(3,.2) calulate P (X = 0 )"
   ]
  },
  {
   "cell_type": "code",
   "execution_count": 23,
   "metadata": {},
   "outputs": [
    {
     "name": "stdout",
     "output_type": "stream",
     "text": [
      "0.5120000000000001\n"
     ]
    }
   ],
   "source": [
    "from scipy.stats import binom\n",
    "import matplotlib.pyplot as plt\n",
    "import numpy as np\n",
    "\n",
    "n = 3\n",
    "p = .2\n",
    "print(binom.pmf(0,n,p))"
   ]
  },
  {
   "attachments": {},
   "cell_type": "markdown",
   "metadata": {},
   "source": [
    "### Question 10\n",
    "here X ~ Binomial(3,0.2). Calculate P (X = 2)\n",
    "\n",
    "Here we use the cdf, the cumulative distribution function as we want to integrate all the values under the pmf."
   ]
  },
  {
   "cell_type": "code",
   "execution_count": 32,
   "metadata": {},
   "outputs": [
    {
     "name": "stdout",
     "output_type": "stream",
     "text": [
      "0.992\n"
     ]
    }
   ],
   "source": [
    "print(binom.cdf(2,n,p))"
   ]
  },
  {
   "cell_type": "code",
   "execution_count": 34,
   "metadata": {},
   "outputs": [],
   "source": [
    "from scipy.stats import uniform"
   ]
  },
  {
   "cell_type": "code",
   "execution_count": 36,
   "metadata": {},
   "outputs": [
    {
     "data": {
      "text/plain": [
       "0.0"
      ]
     },
     "execution_count": 36,
     "metadata": {},
     "output_type": "execute_result"
    }
   ],
   "source": [
    "uniform.pdf(-3,.2)"
   ]
  },
  {
   "cell_type": "code",
   "execution_count": null,
   "metadata": {},
   "outputs": [],
   "source": []
  },
  {
   "attachments": {},
   "cell_type": "markdown",
   "metadata": {},
   "source": [
    "# Quiz 2\n",
    "\n",
    "### 1. Interpret\n",
    "$$\\int_{-2}^5 f(x)dx$$"
   ]
  },
  {
   "attachments": {},
   "cell_type": "markdown",
   "metadata": {},
   "source": [
    "P (X >= -2 N X <=5)"
   ]
  },
  {
   "attachments": {},
   "cell_type": "markdown",
   "metadata": {},
   "source": [
    "### 2. Uniform(0,1) what is the value of P (-3 X < 0.2)"
   ]
  },
  {
   "cell_type": "code",
   "execution_count": 41,
   "metadata": {},
   "outputs": [
    {
     "name": "stdout",
     "output_type": "stream",
     "text": [
      "0.2\n"
     ]
    }
   ],
   "source": [
    "rv = uniform(0,1)\n",
    "print(rv.cdf(.2) - rv.cdf(-3))"
   ]
  },
  {
   "attachments": {},
   "cell_type": "markdown",
   "metadata": {},
   "source": [
    "### 3. Exponential(5) what is the expected value?"
   ]
  },
  {
   "cell_type": "code",
   "execution_count": 63,
   "metadata": {},
   "outputs": [
    {
     "name": "stdout",
     "output_type": "stream",
     "text": [
      "6.0\n"
     ]
    }
   ],
   "source": [
    "from scipy.stats import expon\n",
    "\n",
    "rv = expon(5)\n",
    "print(rv.mean())\n",
    ".2"
   ]
  },
  {
   "attachments": {},
   "cell_type": "markdown",
   "metadata": {},
   "source": [
    "### 4. Expoential scenario?"
   ]
  },
  {
   "attachments": {},
   "cell_type": "markdown",
   "metadata": {},
   "source": [
    "### 5. Uniform(2,6)"
   ]
  },
  {
   "cell_type": "code",
   "execution_count": 61,
   "metadata": {},
   "outputs": [
    {
     "data": {
      "image/png": "[encoded data removed]",
      "text/plain": [
       "<Figure size 640x480 with 1 Axes>"
      ]
     },
     "metadata": {},
     "output_type": "display_data"
    }
   ],
   "source": [
    "import numpy as np\n",
    "import matplotlib.pyplot as plt\n",
    "from scipy.stats import uniform\n",
    "\n",
    "a = 2  # Lower limit of the uniform distribution\n",
    "b = 6  # Upper limit of the uniform distribution\n",
    "\n",
    "# Create a uniform random variable\n",
    "rv = uniform(loc=a, scale=b-a)\n",
    "\n",
    "# Generate x values\n",
    "x = np.linspace(-2, 15, 100)\n",
    "\n",
    "# Calculate PDF values\n",
    "pdf = rv.pdf(x)\n",
    "\n",
    "# Plot the PDF\n",
    "plt.plot(x, pdf)\n",
    "plt.xlim(0,10)\n",
    "plt.xlabel('x')\n",
    "plt.ylabel('Probability Density')\n",
    "plt.title('Uniform Distribution PDF')\n",
    "plt.show()\n",
    "\n"
   ]
  },
  {
   "attachments": {},
   "cell_type": "markdown",
   "metadata": {},
   "source": [
    "### 6. X ~ Uniform(2,6) what is P(2 X <=3)"
   ]
  },
  {
   "cell_type": "code",
   "execution_count": 46,
   "metadata": {},
   "outputs": [
    {
     "data": {
      "text/plain": [
       "0.25"
      ]
     },
     "execution_count": 46,
     "metadata": {},
     "output_type": "execute_result"
    }
   ],
   "source": [
    "rv.cdf(3) - rv.cdf(2)"
   ]
  },
  {
   "attachments": {},
   "cell_type": "markdown",
   "metadata": {},
   "source": [
    "### 7. X ~ N(0,1) "
   ]
  },
  {
   "cell_type": "code",
   "execution_count": 60,
   "metadata": {},
   "outputs": [
    {
     "data": {
      "image/png": "[encoded data removed]",
      "text/plain": [
       "<Figure size 640x480 with 1 Axes>"
      ]
     },
     "metadata": {},
     "output_type": "display_data"
    }
   ],
   "source": [
    "from scipy.stats import norm\n",
    "from matplotlib import pyplot as plt\n",
    "\n",
    "x = np.linspace(-4, 4, 100)\n",
    "y = norm.pdf(x, loc=0, scale=1)\n",
    "\n",
    "plt.plot(x, y)\n",
    "\n",
    "\n",
    "plt.plot(x,y)\n",
    "plt.xlabel('x')\n",
    "plt.ylabel('Probability Density')\n",
    "plt.title('Standard Normal Distribution (N(0, 1))')\n",
    "\n",
    "# Show the plot\n",
    "plt.show()"
   ]
  },
  {
   "attachments": {},
   "cell_type": "markdown",
   "metadata": {},
   "source": [
    "### 8. X ~ N(2,1) what is E(-5X)"
   ]
  },
  {
   "cell_type": "code",
   "execution_count": 47,
   "metadata": {},
   "outputs": [
    {
     "data": {
      "text/plain": [
       "-10.0"
      ]
     },
     "execution_count": 47,
     "metadata": {},
     "output_type": "execute_result"
    }
   ],
   "source": [
    "from scipy.stats import norm\n",
    "\n",
    "rv = norm(2,1)\n",
    "rv.mean() * -5"
   ]
  },
  {
   "attachments": {},
   "cell_type": "markdown",
   "metadata": {},
   "source": [
    "### 9. X ~ N(1,1) and Y ~ N(4,9) what is E(X + Y)"
   ]
  },
  {
   "cell_type": "code",
   "execution_count": 48,
   "metadata": {},
   "outputs": [
    {
     "name": "stdout",
     "output_type": "stream",
     "text": [
      "5.0\n"
     ]
    }
   ],
   "source": [
    "rv = norm(1,1)\n",
    "rv2 = norm(4,9)\n",
    "print(rv.mean() + rv2.mean())"
   ]
  },
  {
   "attachments": {},
   "cell_type": "markdown",
   "metadata": {},
   "source": [
    "### 10. The normali distribution"
   ]
  },
  {
   "attachments": {},
   "cell_type": "markdown",
   "metadata": {},
   "source": [
    "### 11. X ~N(0,01) yields the highes value of P(-1 < X < 1)"
   ]
  },
  {
   "cell_type": "markdown",
   "metadata": {},
   "source": []
  }
 ],
 "metadata": {
  "kernelspec": {
   "display_name": "beyes",
   "language": "python",
   "name": "python3"
  },
  "language_info": {
   "codemirror_mode": {
    "name": "ipython",
    "version": 3
   },
   "file_extension": ".py",
   "mimetype": "text/x-python",
   "name": "python",
   "nbconvert_exporter": "python",
   "pygments_lexer": "ipython3",
   "version": "3.11.3"
  },
  "orig_nbformat": 4
 },
 "nbformat": 4,
 "nbformat_minor": 2
}
